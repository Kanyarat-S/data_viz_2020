{
  "nbformat": 4,
  "nbformat_minor": 0,
  "metadata": {
    "colab": {
      "name": "Intro0.ipynb",
      "provenance": [],
      "authorship_tag": "ABX9TyOJTDJq9tn/CwWMpCAq3p7m",
      "include_colab_link": true
    },
    "kernelspec": {
      "name": "python3",
      "display_name": "Python 3"
    },
    "language_info": {
      "name": "python"
    }
  },
  "cells": [
    {
      "cell_type": "markdown",
      "metadata": {
        "id": "view-in-github",
        "colab_type": "text"
      },
      "source": [
        "<a href=\"https://colab.research.google.com/github/Kanyarat-S/data_viz_2020/blob/main/Intro0.ipynb\" target=\"_parent\"><img src=\"https://colab.research.google.com/assets/colab-badge.svg\" alt=\"Open In Colab\"/></a>"
      ]
    },
    {
      "cell_type": "markdown",
      "source": [
        "## Introduction to Basic Programming for Data Science and Data Visuallization"
      ],
      "metadata": {
        "id": "59RRP6qNIkB-"
      }
    },
    {
      "cell_type": "code",
      "source": [
        "a = 1\n",
        "b = 2\n",
        "a+b"
      ],
      "metadata": {
        "colab": {
          "base_uri": "https://localhost:8080/"
        },
        "id": "yCeI6oHaIpez",
        "outputId": "89860ac2-0e5e-4bc9-cefd-7fd8ab9d257c"
      },
      "execution_count": 1,
      "outputs": [
        {
          "output_type": "execute_result",
          "data": {
            "text/plain": [
              "3"
            ]
          },
          "metadata": {},
          "execution_count": 1
        }
      ]
    },
    {
      "cell_type": "markdown",
      "source": [
        "1+2"
      ],
      "metadata": {
        "id": "APoZ34ttI5an"
      }
    },
    {
      "cell_type": "code",
      "source": [
        "print ('กัลยารัตน์ แสนสมบัติ ID 623020513-7')"
      ],
      "metadata": {
        "colab": {
          "base_uri": "https://localhost:8080/"
        },
        "id": "YrNSvRtoI6Rk",
        "outputId": "c7dda2ae-ef29-448c-e3b9-68e469557430"
      },
      "execution_count": 2,
      "outputs": [
        {
          "output_type": "stream",
          "name": "stdout",
          "text": [
            "กัลยารัตน์ แสนสมบัติ ID 623020513-7\n"
          ]
        }
      ]
    },
    {
      "cell_type": "code",
      "source": [
        ""
      ],
      "metadata": {
        "id": "AbMBypsSJHdK"
      },
      "execution_count": null,
      "outputs": []
    }
  ]
}